{
 "cells": [
  {
   "cell_type": "code",
   "execution_count": 1,
   "metadata": {},
   "outputs": [],
   "source": [
    "import pickle\n",
    "import numpy as np\n",
    "import lindhard as lind #custom library in lindhard.py"
   ]
  },
  {
   "cell_type": "code",
   "execution_count": 2,
   "metadata": {},
   "outputs": [
    {
     "name": "stdout",
     "output_type": "stream",
     "text": [
      "dict_keys(['prim_KE', 'prim_Z', 'prim_Y', 'prim_X', 'NRYield', 'cap_Zmom', 'totalevents', 'cap_Xmom', 'ERYield', 'ERt', 'cap_X', 'cap_Y', 'nprim', 'ERx', 'ERy', 'ERz', 'ERedep', 'NRedep', 'cap_Time', 'prim_PType', 'prim_Xmom', 'prim_Ymom', 'NRhit', 'ERhit', 'NRz', 'NRy', 'NRx', 'cap_Ymom', 'NRt', 'cERcapProg', 'prim_Zmom', 'cap_KE', 'ncap', 'cap_Z', 'cNRcapProg'])\n"
     ]
    }
   ],
   "source": [
    "with open('/data/chocula/villaa/PhotoN_SuperSim/ZipSum/ybe_z14_180223_0x0004_100M.pkl','rb') as readFile:\n",
    "      data=pickle.load(readFile,encoding='latin1')\n",
    "\n",
    "print(data.keys())"
   ]
  },
  {
   "cell_type": "code",
   "execution_count": 3,
   "metadata": {},
   "outputs": [],
   "source": [
    "#do some yield calculations\n",
    "\n",
    "y = lind.getLindhardGe(False) #get standard Lindhard yiedl\n",
    "yv = np.vectorize(y) #vectorize it\n",
    "\n",
    "#voltage and average energy per pair\n",
    "V=70.0 #detector Voltage\n",
    "egam = 3.3 #eV per pair\n",
    "\n",
    "NRedep_ee = data['NRedep']*yv(data['NRedep']) #get the energy of nuclear recoil data in electron-equivalent\n",
    "NRedep_t = data['NRedep'] + (V/egam)*NRedep_ee #convert to total energy\n",
    "edepNR_t = np.sum(NRedep_t,1) #sum the individual hits\n",
    "\n",
    "#convert back to experimental electron-equivalent scale for application\n",
    "#of resolution, this is electron-equivalent energy with the ER assumption\n",
    "edepNR_ee = edepNR_t/(1+(V/egam)) \n",
    "\n",
    "\n"
   ]
  },
  {
   "cell_type": "code",
   "execution_count": null,
   "metadata": {},
   "outputs": [],
   "source": []
  }
 ],
 "metadata": {
  "kernelspec": {
   "display_name": "Python [conda env:py36]",
   "language": "python",
   "name": "conda-env-py36-py"
  },
  "language_info": {
   "codemirror_mode": {
    "name": "ipython",
    "version": 3
   },
   "file_extension": ".py",
   "mimetype": "text/x-python",
   "name": "python",
   "nbconvert_exporter": "python",
   "pygments_lexer": "ipython3",
   "version": "3.6.1"
  }
 },
 "nbformat": 4,
 "nbformat_minor": 2
}
