{
 "cells": [
  {
   "cell_type": "code",
   "execution_count": 1,
   "metadata": {},
   "outputs": [],
   "source": [
    "import pickle\n",
    "from pylab import *\n",
    "import matplotlib.image as mpimg\n",
    "from matplotlib.colors import LogNorm\n",
    "from mpl_toolkits.axes_grid1 import make_axes_locatable\n",
    "import matplotlib as mpl\n",
    "from matplotlib import pyplot as plt\n",
    "import numpy as np\n",
    "import h5py\n",
    "from mpl_toolkits.mplot3d import Axes3D\n",
    "from scipy.stats import gaussian_kde"
   ]
  },
  {
   "cell_type": "code",
   "execution_count": 2,
   "metadata": {},
   "outputs": [
    {
     "name": "stdout",
     "output_type": "stream",
     "text": [
      "dict_keys(['NRYield', 'NRhit', 'ERhit', 'totalevents', 'ERedep', 'NRedep', 'ncap', 'ERYield'])\n"
     ]
    }
   ],
   "source": [
    "with open('pypickle/test.pkl','rb') as readFile:\n",
    "      data=pickle.load(readFile,encoding='latin1')\n",
    "\n",
    "print(data.keys())"
   ]
  },
  {
   "cell_type": "code",
   "execution_count": 4,
   "metadata": {},
   "outputs": [
    {
     "name": "stdout",
     "output_type": "stream",
     "text": [
      "[0 1 2]\n",
      "[ 202.72575784  232.5220994    27.31462882]\n",
      "[]\n",
      "102001000\n"
     ]
    }
   ],
   "source": [
    "print(np.arange(data['NRhit'][0]))\n",
    "print(data['NRedep'][0][np.arange(np.int(data['NRhit'][0]))])\n",
    "print(data['ERedep'][0][np.arange(np.int(data['ERhit'][0]))])\n",
    "print(data['totalevents'])"
   ]
  },
  {
   "cell_type": "code",
   "execution_count": null,
   "metadata": {},
   "outputs": [],
   "source": []
  }
 ],
 "metadata": {
  "kernelspec": {
   "display_name": "Python [conda env:py36]",
   "language": "python",
   "name": "conda-env-py36-py"
  },
  "language_info": {
   "codemirror_mode": {
    "name": "ipython",
    "version": 3
   },
   "file_extension": ".py",
   "mimetype": "text/x-python",
   "name": "python",
   "nbconvert_exporter": "python",
   "pygments_lexer": "ipython3",
   "version": "3.6.1"
  }
 },
 "nbformat": 4,
 "nbformat_minor": 2
}
