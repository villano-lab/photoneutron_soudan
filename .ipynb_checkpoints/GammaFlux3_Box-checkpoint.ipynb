{
 "cells": [
  {
   "cell_type": "code",
   "execution_count": 1,
   "metadata": {},
   "outputs": [],
   "source": [
    "import pickle\n",
    "from pylab import *\n",
    "import matplotlib.image as mpimg\n",
    "from matplotlib.colors import LogNorm\n",
    "from mpl_toolkits.axes_grid1 import make_axes_locatable\n",
    "import matplotlib as mpl\n",
    "from matplotlib import pyplot as plt\n",
    "import numpy as np\n",
    "import h5py\n",
    "from mpl_toolkits.mplot3d import Axes3D\n",
    "from scipy.stats import gaussian_kde"
   ]
  },
  {
   "cell_type": "code",
   "execution_count": 2,
   "metadata": {},
   "outputs": [
    {
     "name": "stdout",
     "output_type": "stream",
     "text": [
      "dict_keys(['volname', 'pz', 'px', 'py', 'ptype', 'EventNum', 'y', 'time', 'Edep', 'x', 'z', 'inout'])\n"
     ]
    }
   ],
   "source": [
    "with open('/data/chocula/villaa/PhotoN_SuperSim/possys/flux_data_0x0006_v3.pkl','rb') as readFile:\n",
    "      data=pickle.load(readFile,encoding='latin1')\n",
    "\n",
    "print(data.keys())"
   ]
  },
  {
   "cell_type": "code",
   "execution_count": 3,
   "metadata": {},
   "outputs": [],
   "source": [
    "#trying to customize here, see:\n",
    "#https://matplotlib.org/users/customizing.html\n",
    "#matplotlib.rc('figure', figsize=(3.4, 3.4*(4/6)))\n",
    "mpl.rcParams['lines.linewidth'] = 2\n",
    "\n",
    "#ticks\n",
    "mpl.rcParams['xtick.top'] = False\n",
    "mpl.rcParams['xtick.bottom'] = True\n",
    "mpl.rcParams['xtick.minor.visible'] = True\n",
    "mpl.rcParams['xtick.direction'] = 'in'\n",
    "mpl.rcParams['xtick.major.size'] = 8\n",
    "mpl.rcParams['xtick.minor.size'] = 4\n",
    "mpl.rcParams['xtick.major.width'] = 2\n",
    "mpl.rcParams['xtick.minor.width'] = 1\n",
    "mpl.rcParams['xtick.labelsize'] = 22\n",
    "\n",
    "mpl.rcParams['ytick.left'] = True\n",
    "mpl.rcParams['ytick.right'] = False\n",
    "mpl.rcParams['ytick.minor.visible'] = True\n",
    "mpl.rcParams['ytick.direction'] = 'in'\n",
    "mpl.rcParams['ytick.major.size'] = 8\n",
    "mpl.rcParams['ytick.minor.size'] = 4\n",
    "mpl.rcParams['ytick.major.width'] = 2\n",
    "mpl.rcParams['ytick.minor.width'] = 1\n",
    "mpl.rcParams['ytick.labelsize'] = 22\n",
    "\n",
    "\n",
    "#error bars\n",
    "#mpl.rcParams['errorbar.capsize'] = 3\n",
    "\n",
    "#axis stuff\n",
    "mpl.rcParams['axes.labelsize'] = 22\n",
    "\n",
    "#fonts\n",
    "# Set the font dictionaries (for plot title and axis titles)\n",
    "title_font = {'fontname':'Arial', 'size':'16', 'color':'black', 'weight':'normal',\n",
    "              'verticalalignment':'bottom'} # Bottom vertical alignment for more space\n",
    "axis_font = {'fontname':'Arial', 'size':'32'}\n",
    "legend_font = {'fontname':'Arial', 'size':'22'}\n",
    "\n",
    "#fonts global settings\n",
    "mpl.rc('font',family=legend_font['fontname'])"
   ]
  },
  {
   "cell_type": "code",
   "execution_count": 4,
   "metadata": {},
   "outputs": [
    {
     "ename": "IndexError",
     "evalue": "list index out of range",
     "output_type": "error",
     "traceback": [
      "\u001b[0;31m---------------------------------------------------------------------------\u001b[0m",
      "\u001b[0;31mIndexError\u001b[0m                                Traceback (most recent call last)",
      "\u001b[0;32m<ipython-input-4-eeeb849eb224>\u001b[0m in \u001b[0;36m<module>\u001b[0;34m()\u001b[0m\n\u001b[1;32m     52\u001b[0m \u001b[0mlgnd\u001b[0m\u001b[0;34m=\u001b[0m \u001b[0max1\u001b[0m\u001b[0;34m.\u001b[0m\u001b[0mlegend\u001b[0m\u001b[0;34m(\u001b[0m\u001b[0mloc\u001b[0m\u001b[0;34m=\u001b[0m\u001b[0;36m2\u001b[0m\u001b[0;34m,\u001b[0m\u001b[0mprop\u001b[0m\u001b[0;34m=\u001b[0m\u001b[0;34m{\u001b[0m\u001b[0;34m'size'\u001b[0m\u001b[0;34m:\u001b[0m\u001b[0;36m22\u001b[0m\u001b[0;34m}\u001b[0m\u001b[0;34m)\u001b[0m\u001b[0;34m\u001b[0m\u001b[0m\n\u001b[1;32m     53\u001b[0m \u001b[0mlgnd\u001b[0m\u001b[0;34m.\u001b[0m\u001b[0mlegendHandles\u001b[0m\u001b[0;34m[\u001b[0m\u001b[0;36m0\u001b[0m\u001b[0;34m]\u001b[0m\u001b[0;34m.\u001b[0m\u001b[0m_sizes\u001b[0m \u001b[0;34m=\u001b[0m \u001b[0;34m[\u001b[0m\u001b[0;36m30\u001b[0m\u001b[0;34m]\u001b[0m\u001b[0;34m\u001b[0m\u001b[0m\n\u001b[0;32m---> 54\u001b[0;31m \u001b[0mlgnd\u001b[0m\u001b[0;34m.\u001b[0m\u001b[0mlegendHandles\u001b[0m\u001b[0;34m[\u001b[0m\u001b[0;36m1\u001b[0m\u001b[0;34m]\u001b[0m\u001b[0;34m.\u001b[0m\u001b[0m_sizes\u001b[0m \u001b[0;34m=\u001b[0m \u001b[0;34m[\u001b[0m\u001b[0;36m30\u001b[0m\u001b[0;34m]\u001b[0m\u001b[0;34m\u001b[0m\u001b[0m\n\u001b[0m",
      "\u001b[0;31mIndexError\u001b[0m: list index out of range"
     ]
    }
   ],
   "source": [
    "#set up a plot\n",
    "fig = plt.figure(figsize=(12,10),frameon=False)\n",
    "ax1 = fig.add_subplot(111, projection='3d')\n",
    "#fig,axes = plt.subplots(1,1,figsize=(9.0,8.0),projection='3d')\n",
    "#ax1 = axes[0]\n",
    "\n",
    "#lay out the colors\n",
    "rgb_r = (255/255.0,0/255.0,0/255.0)\n",
    "rgb_b = (0/255.0,0/255.0,255/255.0)\n",
    "rgb_o = (255/255.0,127/255.0,0/255.0)\n",
    "rgb_b = (31/255.0,120/255.0,180/255.0)\n",
    "rgb_lr = (251/255.0,154/255.0,153/255.0)\n",
    "rgb_g = (203/255.0,195/255.0,195/255.0)\n",
    "\n",
    "# make these smaller to increase the resolution\n",
    "dx, dy = 0.05, 0.05\n",
    "\n",
    "x = np.arange(-3.0, 3.0, dx)\n",
    "y = np.arange(-3.0, 3.0, dy)\n",
    "\n",
    "xmin, xmax, ymin, ymax = np.amin(x), np.amax(x), np.amin(y), np.amax(y)\n",
    "extent = xmin, xmax, ymin, ymax\n",
    "#print(extent)\n",
    "\n",
    "img=mpimg.imread('pypickle/bridge_0.png')\n",
    "\n",
    "incut = np.zeros(np.shape(data['x']))\n",
    "incut[(data['inout']==1)] = 1\n",
    "outcut = np.zeros(np.shape(data['x']))\n",
    "outcut[(data['inout']==2)] = 1\n",
    "randcut = np.zeros(np.shape(data['x']))\n",
    "randvec = np.random.rand(*np.shape(data['x']))\n",
    "randcut[randvec>0.9] = 1\n",
    "\n",
    "\n",
    "#ax1.scatter(data['x'][(incut==1)&(randcut==1)], data['y'][(incut==1)&(randcut==1)], data['z'][(incut==1)&(randcut==1)], s=1,c='r', marker='o',label='inward')\n",
    "ax1.scatter(data['x'][outcut==1], data['y'][outcut==1], data['z'][outcut==1], s=1,c='b', marker='o',label='outward')\n",
    "\n",
    "\n",
    "ax1.imshow(img,alpha=0.2,interpolation='bilinear',extent=(-0.1,0.1,-0.1,0.1))\n",
    "\n",
    "#ax1.set_yscale('linear')\n",
    "ax1.set_xlim(-0.25, 0.25)\n",
    "ax1.set_ylim(-0.25,0.25)\n",
    "ax1.set_zlim(0.6,1.1) # try to make the aspect ratio 1:1:1\n",
    "ax1.set_xlabel('sim X pos. [m]',labelpad=20,**axis_font) #labelpad is distance of axis to label\n",
    "ax1.set_ylabel('sim Y pos. [m]',labelpad=20,**axis_font)\n",
    "ax1.set_zlabel('sim Z pos. [m]',labelpad=20,**axis_font)\n",
    "#ax1.grid(True)\n",
    "#ax1.yaxis.grid(True,which='minor',linestyle='--')\n",
    "\n",
    "lgnd= ax1.legend(loc=2,prop={'size':22})\n",
    "lgnd.legendHandles[0]._sizes = [30]\n",
    "#lgnd.legendHandles[1]._sizes = [30]"
   ]
  },
  {
   "cell_type": "code",
   "execution_count": null,
   "metadata": {},
   "outputs": [],
   "source": [
    "for axis in ['top','bottom','left','right']:\n",
    "  ax1.spines[axis].set_linewidth(2)"
   ]
  },
  {
   "cell_type": "code",
   "execution_count": null,
   "metadata": {},
   "outputs": [],
   "source": [
    "plt.tight_layout()\n",
    "plt.savefig('figures/GammaFlux_Box_3dghost.png')\n",
    "plt.show()"
   ]
  },
  {
   "cell_type": "code",
   "execution_count": null,
   "metadata": {},
   "outputs": [],
   "source": [
    "#set up a plot\n",
    "fig = plt.figure(figsize=(12,10),frameon=False)\n",
    "ax1 = fig.add_subplot(111, projection='3d')\n",
    "#fig,axes = plt.subplots(1,1,figsize=(9.0,8.0),projection='3d')\n",
    "#ax1 = axes[0]\n",
    "\n",
    "#lay out the colors\n",
    "rgb_r = (255/255.0,0/255.0,0/255.0)\n",
    "rgb_b = (0/255.0,0/255.0,255/255.0)\n",
    "rgb_o = (255/255.0,127/255.0,0/255.0)\n",
    "rgb_b = (31/255.0,120/255.0,180/255.0)\n",
    "rgb_lr = (251/255.0,154/255.0,153/255.0)\n",
    "rgb_g = (203/255.0,195/255.0,195/255.0)\n",
    "\n",
    "\n",
    "\n",
    "incut = np.zeros(np.shape(data['x']))\n",
    "incut[(data['inout']==1)] = 1\n",
    "outcut = np.zeros(np.shape(data['x']))\n",
    "outcut[(data['inout']==2)] = 1\n",
    "bothcut = np.zeros(np.shape(data['x']))\n",
    "bothcut[(data['inout']==3)] = 1\n",
    "randcut = np.zeros(np.shape(data['x']))\n",
    "randvec = np.random.rand(*np.shape(data['x']))\n",
    "randcut[randvec>0.9] = 1\n",
    "\n",
    "x = data['x'][((outcut==1)|(bothcut==1))&(randcut==1)]\n",
    "y = data['y'][((outcut==1)|(bothcut==1))&(randcut==1)]\n",
    "z = data['z'][((outcut==1)|(bothcut==1))&(randcut==1)]\n",
    "\n",
    "# Calculate the point density\n",
    "xyz = np.vstack([x,y,z])\n",
    "color = gaussian_kde(xyz)(xyz)\n",
    "\n",
    "# Sort the points by density, so that the densest points are plotted last\n",
    "idx = color.argsort()\n",
    "x, y, z, color = x[idx], y[idx], z[idx], color[idx]\n",
    "\n",
    "#ax1.scatter(data['x'][(incut==1)&(randcut==1)], data['y'][(incut==1)&(randcut==1)], data['z'][(incut==1)&(randcut==1)], s=1,c='r', marker='o',label='inward')\n",
    "s = ax1.scatter(x, y, z, s=1,c=color, marker='o',label='outward',cmap='inferno')\n",
    "\n",
    "\n",
    "\n",
    "#ax1.set_yscale('linear')\n",
    "ax1.set_xlim(-0.25, 0.25)\n",
    "ax1.set_ylim(-0.25,0.25)\n",
    "ax1.set_zlim(0.6,1.1) # try to make the aspect ratio 1:1:1\n",
    "ax1.set_xlabel('sim X pos. [m]',labelpad=20,**axis_font) #labelpad is distance of axis to label\n",
    "ax1.set_ylabel('sim Y pos. [m]',labelpad=20,**axis_font)\n",
    "ax1.set_zlabel('sim Z pos. [m]',labelpad=20,**axis_font)\n",
    "#ax1.grid(True)\n",
    "#ax1.yaxis.grid(True,which='minor',linestyle='--')\n",
    "\n",
    "#lgnd= ax1.legend(loc=2,prop={'size':22})\n",
    "#lgnd.legendHandles[0]._sizes = [30]\n",
    "#lgnd.legendHandles[1]._sizes = [30]"
   ]
  },
  {
   "cell_type": "code",
   "execution_count": null,
   "metadata": {},
   "outputs": [],
   "source": [
    "for axis in ['top','bottom','left','right']:\n",
    "  ax1.spines[axis].set_linewidth(2)"
   ]
  },
  {
   "cell_type": "code",
   "execution_count": null,
   "metadata": {},
   "outputs": [],
   "source": [
    "plt.tight_layout()\n",
    "plt.savefig('figures/GammaFlux_Box_heat.png')\n",
    "#plt.colorbar(s[3],fraction=0.046,pad=0.04)\n",
    "plt.show()"
   ]
  },
  {
   "cell_type": "code",
   "execution_count": null,
   "metadata": {},
   "outputs": [],
   "source": []
  }
 ],
 "metadata": {
  "kernelspec": {
   "display_name": "Python [conda env:py36]",
   "language": "python",
   "name": "conda-env-py36-py"
  },
  "language_info": {
   "codemirror_mode": {
    "name": "ipython",
    "version": 3
   },
   "file_extension": ".py",
   "mimetype": "text/x-python",
   "name": "python",
   "nbconvert_exporter": "python",
   "pygments_lexer": "ipython3",
   "version": "3.6.1"
  }
 },
 "nbformat": 4,
 "nbformat_minor": 2
}
