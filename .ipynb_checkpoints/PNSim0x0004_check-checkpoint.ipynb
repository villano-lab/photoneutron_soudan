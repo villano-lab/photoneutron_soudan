{
 "cells": [
  {
   "cell_type": "code",
   "execution_count": 1,
   "metadata": {},
   "outputs": [],
   "source": [
    "import pickle\n",
    "from pylab import *\n",
    "import matplotlib.image as mpimg\n",
    "from matplotlib.colors import LogNorm\n",
    "from mpl_toolkits.axes_grid1 import make_axes_locatable\n",
    "import matplotlib as mpl\n",
    "from matplotlib import pyplot as plt\n",
    "import numpy as np\n",
    "import h5py\n",
    "from mpl_toolkits.mplot3d import Axes3D\n",
    "from scipy.stats import gaussian_kde"
   ]
  },
  {
   "cell_type": "code",
   "execution_count": 2,
   "metadata": {},
   "outputs": [
    {
     "name": "stdout",
     "output_type": "stream",
     "text": [
      "dict_keys(['prim_KE', 'prim_Z', 'prim_Y', 'prim_X', 'NRYield', 'cap_Zmom', 'totalevents', 'cap_Xmom', 'ERYield', 'ERt', 'cap_X', 'cap_Y', 'nprim', 'ERx', 'ERy', 'ERz', 'ERedep', 'NRedep', 'cap_Time', 'prim_PType', 'prim_Xmom', 'prim_Ymom', 'NRhit', 'ERhit', 'NRz', 'NRy', 'NRx', 'cap_Ymom', 'NRt', 'cERcapProg', 'prim_Zmom', 'cap_KE', 'ncap', 'cap_Z', 'cNRcapProg'])\n"
     ]
    }
   ],
   "source": [
    "with open('/data/chocula/villaa/PhotoN_SuperSim/ZipSum/ybe_z14_180223_0x0004_100M.pkl','rb') as readFile:\n",
    "      data=pickle.load(readFile,encoding='latin1')\n",
    "\n",
    "print(data.keys())"
   ]
  },
  {
   "cell_type": "code",
   "execution_count": 3,
   "metadata": {},
   "outputs": [
    {
     "name": "stdout",
     "output_type": "stream",
     "text": [
      "[0 1 2]\n",
      "[ 202.72575784  232.5220994    27.31462882]\n",
      "[]\n",
      "102001000\n"
     ]
    }
   ],
   "source": [
    "print(np.arange(data['NRhit'][0]))\n",
    "print(data['NRedep'][0][np.arange(np.int(data['NRhit'][0]))])\n",
    "print(data['ERedep'][0][np.arange(np.int(data['ERhit'][0]))])\n",
    "print(data['totalevents'])"
   ]
  },
  {
   "cell_type": "code",
   "execution_count": 4,
   "metadata": {},
   "outputs": [
    {
     "name": "stdout",
     "output_type": "stream",
     "text": [
      "(39185, 13)\n",
      "(39185, 13)\n"
     ]
    }
   ],
   "source": [
    "print(np.shape(data['cNRcapProg']))\n",
    "print(np.shape(data['NRedep']))"
   ]
  },
  {
   "cell_type": "code",
   "execution_count": 5,
   "metadata": {},
   "outputs": [
    {
     "name": "stdout",
     "output_type": "stream",
     "text": [
      "(39185, 13)\n"
     ]
    }
   ],
   "source": [
    "NRedep_nocap = data['NRedep']\n",
    "#NRedep_nocap[data['cNRcapProg']] = 0\n",
    "print(np.shape(NRedep_nocap))"
   ]
  },
  {
   "cell_type": "code",
   "execution_count": 6,
   "metadata": {},
   "outputs": [],
   "source": [
    "#trying to customize here, see:\n",
    "#https://matplotlib.org/users/customizing.html\n",
    "#matplotlib.rc('figure', figsize=(3.4, 3.4*(4/6)))\n",
    "mpl.rcParams['lines.linewidth'] = 2\n",
    "\n",
    "#ticks\n",
    "mpl.rcParams['xtick.top'] = False\n",
    "mpl.rcParams['xtick.bottom'] = True\n",
    "mpl.rcParams['xtick.minor.visible'] = True\n",
    "mpl.rcParams['xtick.direction'] = 'in'\n",
    "mpl.rcParams['xtick.major.size'] = 8\n",
    "mpl.rcParams['xtick.minor.size'] = 4\n",
    "mpl.rcParams['xtick.major.width'] = 2\n",
    "mpl.rcParams['xtick.minor.width'] = 1\n",
    "mpl.rcParams['xtick.labelsize'] = 22\n",
    "\n",
    "mpl.rcParams['ytick.left'] = True\n",
    "mpl.rcParams['ytick.right'] = False\n",
    "mpl.rcParams['ytick.minor.visible'] = True\n",
    "mpl.rcParams['ytick.direction'] = 'in'\n",
    "mpl.rcParams['ytick.major.size'] = 8\n",
    "mpl.rcParams['ytick.minor.size'] = 4\n",
    "mpl.rcParams['ytick.major.width'] = 2\n",
    "mpl.rcParams['ytick.minor.width'] = 1\n",
    "mpl.rcParams['ytick.labelsize'] = 22\n",
    "\n",
    "\n",
    "#error bars\n",
    "#mpl.rcParams['errorbar.capsize'] = 3\n",
    "\n",
    "#axis stuff\n",
    "mpl.rcParams['axes.labelsize'] = 22\n",
    "\n",
    "#fonts\n",
    "# Set the font dictionaries (for plot title and axis titles)\n",
    "title_font = {'fontname':'Arial', 'size':'16', 'color':'black', 'weight':'normal',\n",
    "              'verticalalignment':'bottom'} # Bottom vertical alignment for more space\n",
    "axis_font = {'fontname':'Arial', 'size':'32'}\n",
    "legend_font = {'fontname':'Arial', 'size':'22'}\n",
    "\n",
    "#fonts global settings\n",
    "mpl.rc('font',family=legend_font['fontname'])"
   ]
  },
  {
   "cell_type": "code",
   "execution_count": 7,
   "metadata": {},
   "outputs": [],
   "source": [
    "#might as well make some 1d histograms of energy stuff\n",
    "\n",
    "emax = 1000\n",
    "edepNR = np.sum(data['NRedep'],1)\n",
    "#print(data['NRedep'][151])\n",
    "#print(np.shape(edepNR[(data['ERhit']==0) & (data['ncap']>0)]))\n",
    "#print(data['NRhit'][data['ncap']>0])\n",
    "#print(edepNR[data['ncap']==1])\n",
    "#print(data['NRedep'][data['ncap']==1])\n",
    "#print(np.shape(edepNR[(data['ERhit']==0) & (data['NRhit']>0)]))\n",
    "n,nx = np.histogram(edepNR[(data['ERhit']==0) & (data['NRhit']>0)],100,range=(0,emax))\n",
    "#n,nx = np.histogram(KE[bcuts['cOVCLidA']],300,range=(0,emax))\n",
    "nerr = np.sqrt(n)\n",
    "xc = (nx[:-1] + nx[1:]) / 2\n",
    "\n",
    "n_cap,nx_cap = np.histogram(edepNR[(data['ERhit']==0) & (data['NRhit']>0) & (data['ncap']>0)],100,range=(0,emax))\n",
    "#n,nx = np.histogram(KE[bcuts['cOVCLidA']],300,range=(0,emax))\n",
    "nerr_cap = np.sqrt(n_cap)\n",
    "xc_cap = (nx_cap[:-1] + nx_cap[1:]) / 2"
   ]
  },
  {
   "cell_type": "code",
   "execution_count": 8,
   "metadata": {},
   "outputs": [
    {
     "name": "stdout",
     "output_type": "stream",
     "text": [
      "9.80382545269164e-09\n",
      "10.0\n",
      "9.80382545269e-10\n",
      "0.0313408692072\n"
     ]
    },
    {
     "data": {
      "text/plain": [
       "<matplotlib.legend.Legend at 0x7f69f611e358>"
      ]
     },
     "execution_count": 8,
     "metadata": {},
     "output_type": "execute_result"
    }
   ],
   "source": [
    "#set up a 1d plot\n",
    "fig,axes = plt.subplots(1,1,figsize=(9.0,8.0),sharex=True)\n",
    "ax1 = axes\n",
    "\n",
    "#lay out the colors\n",
    "rgb_r = (255/255.0,0/255.0,0/255.0)\n",
    "rgb_b = (0/255.0,0/255.0,255/255.0)\n",
    "rgb_o = (255/255.0,127/255.0,0/255.0)\n",
    "rgb_b = (31/255.0,120/255.0,180/255.0)\n",
    "rgb_lr = (251/255.0,154/255.0,153/255.0)\n",
    "rgb_g = (203/255.0,195/255.0,195/255.0)\n",
    "\n",
    "#try a normalization; assume exactly 1e5 gammas per neutron and a 1mCi sourcea\n",
    "norm = 1/np.float(data['totalevents']) #per neutron\n",
    "print(norm)\n",
    "width = xc[1]-xc[0] #width in eV\n",
    "print(width)\n",
    "norm = norm/width #per neutron per eV\n",
    "print(norm)\n",
    "srcrate = 3.7e7/1.0e5 #n per second\n",
    "srcrate = srcrate*(24*60*60) #n per day\n",
    "norm = norm*srcrate\n",
    "print(norm)\n",
    "\n",
    "#ax1.errorbar(xc, n, yerr=nerr,marker='o', markersize=8, linestyle='none',color='k', label='data')\n",
    "ax1.step(xc,n*norm, where='mid',color=rgb_r, linestyle='-', label='all NRs', linewidth=2)\n",
    "ax1.step(xc_cap,n_cap*norm, where='mid',color=rgb_b, linestyle='-', label='captures', linewidth=2)\n",
    "\n",
    "ymin = 1e-1*norm\n",
    "ymax = 1e5*norm\n",
    "\n",
    "thresh=350.\n",
    "sigthr=20. # sigma on threshold\n",
    "a = [thresh,thresh] #this was the threshold for IT5Z2 :\n",
    "#http://titus.stanford.edu/cdms_restricted/Soudan/R133/ebook/171012_AS/T5Z2liteTrigEff.html\n",
    "b = [ymin,ymax]\n",
    "#ax1.plot(a,b,linestyle='--',color='k',label='_nolegend_')\n",
    "#ax1.plot(a,b,linestyle='--',color='k',label='Thresh. (IT5Z2) in keV$_{\\mathrm{nr}}$')\n",
    "\n",
    "ax1.axvline(thresh, color='k', linestyle='--', lw=2, alpha=0.8,label=\"Thresh. (IT5Z2), keV$_{\\mathrm{nr}}$\")\n",
    "erange_x = np.arange(thresh-sigthr, thresh+sigthr, 0.01)\n",
    "ax1.fill_between(erange_x, ymin, ymax, facecolor=rgb_o, alpha=0.3)\n",
    "\n",
    "ax1.set_yscale('log')\n",
    "ax1.set_xlim(0, emax)\n",
    "ax1.set_ylim(ymin,ymax)\n",
    "ax1.set_xlabel('NR energy [eV]',**axis_font)\n",
    "ax1.set_ylabel('rate [(eV $\\cdot$ day)$^{-1}$]',**axis_font)\n",
    "ax1.grid(True)\n",
    "ax1.yaxis.grid(True,which='minor',linestyle='--')\n",
    "#ax1.legend([gh,gl,nh,nl], ['gamma (high gain)','gamma (low gain)','neutron (high gain)', 'neutron (low gain)'],loc=1)\n",
    "#ax1.legend(loc=1, bbox_to_anchor=(0.82, 1),\n",
    "#         fancybox=True, shadow=True, ncol=4)\n",
    "ax1.legend(loc=1,prop={'size':22})"
   ]
  },
  {
   "cell_type": "code",
   "execution_count": 9,
   "metadata": {},
   "outputs": [],
   "source": [
    "for axis in ['top','bottom','left','right']:\n",
    "  ax1.spines[axis].set_linewidth(2)"
   ]
  },
  {
   "cell_type": "code",
   "execution_count": 10,
   "metadata": {},
   "outputs": [
    {
     "data": {
      "image/png": "[encoded data removed]",
      "text/plain": [
       "<matplotlib.figure.Figure at 0x7f69f8536b38>"
      ]
     },
     "metadata": {},
     "output_type": "display_data"
    }
   ],
   "source": [
    "plt.tight_layout()\n",
    "plt.savefig('figures/IT5Z2_G4captures_100M.eps')\n",
    "plt.show()"
   ]
  },
  {
   "cell_type": "code",
   "execution_count": null,
   "metadata": {},
   "outputs": [],
   "source": []
  },
  {
   "cell_type": "code",
   "execution_count": null,
   "metadata": {},
   "outputs": [],
   "source": []
  }
 ],
 "metadata": {
  "kernelspec": {
   "display_name": "Python [conda env:py36]",
   "language": "python",
   "name": "conda-env-py36-py"
  },
  "language_info": {
   "codemirror_mode": {
    "name": "ipython",
    "version": 3
   },
   "file_extension": ".py",
   "mimetype": "text/x-python",
   "name": "python",
   "nbconvert_exporter": "python",
   "pygments_lexer": "ipython3",
   "version": "3.6.1"
  }
 },
 "nbformat": 4,
 "nbformat_minor": 2
}
