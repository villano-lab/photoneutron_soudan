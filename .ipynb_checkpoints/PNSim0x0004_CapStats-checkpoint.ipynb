{
 "cells": [
  {
   "cell_type": "code",
   "execution_count": 1,
   "metadata": {},
   "outputs": [],
   "source": [
    "import pickle\n",
    "from pylab import *\n",
    "import matplotlib.image as mpimg\n",
    "from matplotlib.colors import LogNorm\n",
    "from mpl_toolkits.axes_grid1 import make_axes_locatable\n",
    "import matplotlib as mpl\n",
    "from matplotlib import pyplot as plt\n",
    "import numpy as np\n",
    "import h5py\n",
    "from mpl_toolkits.mplot3d import Axes3D\n",
    "from scipy.stats import gaussian_kde"
   ]
  },
  {
   "cell_type": "code",
   "execution_count": 2,
   "metadata": {},
   "outputs": [
    {
     "name": "stdout",
     "output_type": "stream",
     "text": [
      "reading file for detector z14\n",
      "/data/chocula/villaa/PhotoN_SuperSim/ZipSum/ybe_z14_180223_0x0004_100M.pkl\n",
      "/data/chocula/villaa/PhotoN_SuperSim/ZipSum/ybe_z14_180223_0x0004_1-3B.pkl\n",
      "/data/chocula/villaa/PhotoN_SuperSim/ZipSum/sbbe_z14_180302_0x0004_100M.pkl\n",
      "/data/chocula/villaa/PhotoN_SuperSim/ZipSum/sbbe_z14_180302_0x0004_1-3B.pkl\n",
      "reading file for detector z4\n",
      "/data/chocula/villaa/PhotoN_SuperSim/ZipSum/ybe_z4_180223_0x0004_100M.pkl\n",
      "/data/chocula/villaa/PhotoN_SuperSim/ZipSum/ybe_z4_180223_0x0004_1-3B.pkl\n",
      "/data/chocula/villaa/PhotoN_SuperSim/ZipSum/sbbe_z4_180302_0x0004_100M.pkl\n",
      "/data/chocula/villaa/PhotoN_SuperSim/ZipSum/sbbe_z4_180302_0x0004_1-3B.pkl\n",
      "reading file for detector z5\n",
      "/data/chocula/villaa/PhotoN_SuperSim/ZipSum/ybe_z5_180305_0x0004_100M.pkl\n",
      "/data/chocula/villaa/PhotoN_SuperSim/ZipSum/ybe_z5_180305_0x0004_1-3B.pkl\n",
      "/data/chocula/villaa/PhotoN_SuperSim/ZipSum/sbbe_z5_180305_0x0004_100M.pkl\n",
      "/data/chocula/villaa/PhotoN_SuperSim/ZipSum/sbbe_z5_180305_0x0004_1-3B.pkl\n"
     ]
    }
   ],
   "source": [
    "#go through a bunch of data and load it\n",
    "prefixdir = '/data/chocula/villaa/PhotoN_SuperSim/ZipSum'\n",
    "data = {}\n",
    "data['z14'] = {}\n",
    "data['z14']['ybe'] = {}\n",
    "data['z14']['ybe']['bigfile'] = 'ybe_z14_180223_0x0004_1-3B.pkl'\n",
    "data['z14']['ybe']['smallfile'] = 'ybe_z14_180223_0x0004_100M.pkl'\n",
    "data['z14']['sbbe'] = {}\n",
    "data['z14']['sbbe']['bigfile'] = 'sbbe_z14_180302_0x0004_1-3B.pkl'\n",
    "data['z14']['sbbe']['smallfile'] = 'sbbe_z14_180302_0x0004_100M.pkl'\n",
    "data['z4'] = {}\n",
    "data['z4']['ybe'] = {}\n",
    "data['z4']['ybe']['bigfile'] = 'ybe_z4_180223_0x0004_1-3B.pkl'\n",
    "data['z4']['ybe']['smallfile'] = 'ybe_z4_180223_0x0004_100M.pkl'\n",
    "data['z4']['sbbe'] = {}\n",
    "data['z4']['sbbe']['bigfile'] = 'sbbe_z4_180302_0x0004_1-3B.pkl'\n",
    "data['z4']['sbbe']['smallfile'] = 'sbbe_z4_180302_0x0004_100M.pkl'\n",
    "data['z5'] = {}\n",
    "data['z5']['ybe'] = {}\n",
    "data['z5']['ybe']['bigfile'] = 'ybe_z5_180305_0x0004_1-3B.pkl'\n",
    "data['z5']['ybe']['smallfile'] = 'ybe_z5_180305_0x0004_100M.pkl'\n",
    "data['z5']['sbbe'] = {}\n",
    "data['z5']['sbbe']['bigfile'] = 'sbbe_z5_180305_0x0004_1-3B.pkl'\n",
    "data['z5']['sbbe']['smallfile'] = 'sbbe_z5_180305_0x0004_100M.pkl'\n",
    "#data['z5'] = {}\n",
    "#data['z5']['ybe'] = {}\n",
    "#data['z5']['ybe']['bigfile'] = 'ybe_z14_180223_0x0004_1-3B.pkl'\n",
    "#data['z5']['sbbe'] = {}\n",
    "#data['z5']['sbbe']['bigfile'] = 'sbbe_z14_180302_0x0004_1-3B.pkl'\n",
    "\n",
    "\n",
    "for det in data:\n",
    "    print('reading file for detector {}'.format(det))\n",
    "\n",
    "    for set in data[det]:\n",
    "      file = prefixdir + '/' + data[det][set]['smallfile']\n",
    "      file2 = prefixdir + '/' + data[det][set]['bigfile']\n",
    "      print(file)\n",
    "      print(file2)\n",
    "      with open(file,'rb') as readFile:\n",
    "            data[det][set]['smalldata']=pickle.load(readFile,encoding='latin1')\n",
    "      with open(file2,'rb') as readFile:\n",
    "            data[det][set]['bigdata']=pickle.load(readFile,encoding='latin1')\n",
    "\n",
    "      #print(data[det][set]['smalldata'].keys())"
   ]
  },
  {
   "cell_type": "code",
   "execution_count": 3,
   "metadata": {},
   "outputs": [
    {
     "name": "stdout",
     "output_type": "stream",
     "text": [
      "computing for detector z14\n",
      "detector z14, set ybe has 3.01 +/- 0.01% captures\n",
      "detector z14, set sbbe has 3.58 +/- 0.01% captures\n",
      "computing for detector z4\n",
      "detector z4, set ybe has 2.82 +/- 0.01% captures\n",
      "detector z4, set sbbe has 3.44 +/- 0.01% captures\n",
      "computing for detector z5\n",
      "detector z5, set ybe has 2.85 +/- 0.01% captures\n",
      "detector z5, set sbbe has 3.50 +/- 0.01% captures\n"
     ]
    }
   ],
   "source": [
    "#find the numbers for each detector and dataset\n",
    "for det in data:\n",
    "    print('computing for detector {}'.format(det))\n",
    "\n",
    "    for set in data[det]:\n",
    "        var = data[det][set]['bigdata']\n",
    "        tot = np.ones(np.shape(var['NRedep']))\n",
    "        perc = np.float(np.sum(tot[var['ncap']>0]))/np.float(np.sum(tot))\n",
    "        perc2 = np.float(np.sum(tot[var['ncap']>1]))/np.float(np.sum(tot))\n",
    "        err = np.sqrt(perc*(1-perc)/np.float(np.sum(tot))) #binomial error\n",
    "        err2 = np.sqrt(perc2*(1-perc2)/np.float(np.sum(tot))) #binomial error\n",
    "        perc*=100\n",
    "        perc2*=100\n",
    "        err*=100\n",
    "        err2*=100\n",
    "        #print(np.float(np.sum(tot[var['ncap']>1])))\n",
    "        print('detector {0}, set {1} has {2:1.2f} +/- {3:1.2f}% captures'.format(det,set,perc,err))\n",
    "        #print('detector {0}, set {1} has {2:1.2E} +/- {3:1.2E}% multiple-captures'.format(det,set,perc2,err2))"
   ]
  },
  {
   "cell_type": "code",
   "execution_count": 4,
   "metadata": {},
   "outputs": [
    {
     "name": "stdout",
     "output_type": "stream",
     "text": [
      "dict_keys(['volname', 'flux_kde', 'ke', 'pz', 'px', 'py', 'ptype', 'totalevents', 'EventNum', 'y', 'color', 'time', 'Edep', 'x', 'z', 'inout'])\n",
      "dict_keys(['volname', 'flux_kde', 'ke', 'pz', 'px', 'py', 'ptype', 'totalevents', 'EventNum', 'y', 'color', 'time', 'Edep', 'x', 'z', 'inout'])\n"
     ]
    }
   ],
   "source": [
    "#add the flux data\n",
    "for set in data['z14']:\n",
    "    data['z14'][set]['fluxfile'] = '/data/chocula/villaa/PhotoN_SuperSim/ZipSum/flux_data_'+set+'_z14_0x000a_v1.pkl'\n",
    "    file = data['z14'][set]['fluxfile']\n",
    "    with open(file,'rb') as readFile:\n",
    "            data['z14'][set]['fluxdata']=pickle.load(readFile,encoding='latin1')\n",
    "            \n",
    "    print(data['z14'][set]['fluxdata'].keys())\n",
    "            \n"
   ]
  },
  {
   "cell_type": "code",
   "execution_count": 5,
   "metadata": {},
   "outputs": [
    {
     "name": "stdout",
     "output_type": "stream",
     "text": [
      "[  1.34849090e+01   5.72503041e-02   1.93725378e+04   1.55611665e+04]\n",
      "[    165.22954786     155.49199179  135115.69954505  128993.98995569]\n"
     ]
    }
   ],
   "source": [
    "#might as well make some 1d histograms of flux stuff\n",
    "\n",
    "emax = 1000000\n",
    "flux_sb = data['z14']['sbbe']['fluxdata']\n",
    "energyFlux_sb = flux_sb['ke']\n",
    "print(energyFlux_sb[np.arange(4)])\n",
    "\n",
    "n_f_sb,nx_f_sb = np.histogram(energyFlux_sb[(flux_sb['inout']==1)|(flux_sb['inout']==3)],bins=np.logspace(np.log10(0.01),np.log10(emax), 100),range=(0.1,emax))\n",
    "nerr_f_sb = np.sqrt(n_f_sb)\n",
    "xc_f_sb = (nx_f_sb[:-1] + nx_f_sb[1:]) / 2\n",
    "\n",
    "\n",
    "flux_y = data['z14']['ybe']['fluxdata']\n",
    "energyFlux_y = flux_y['ke']\n",
    "print(energyFlux_y[np.arange(4)])\n",
    "\n",
    "n_f_y,nx_f_y = np.histogram(energyFlux_y[(flux_y['inout']==1) | (flux_y['inout']==3)],bins=np.logspace(np.log10(0.01),np.log10(emax), 100),range=(0.1,emax))\n",
    "nerr_f_y = np.sqrt(n_f_y)\n",
    "xc_f_y = (nx_f_y[:-1] + nx_f_y[1:]) / 2"
   ]
  },
  {
   "cell_type": "code",
   "execution_count": 7,
   "metadata": {},
   "outputs": [],
   "source": [
    "#calculate normalizations\n",
    "#try a normalization; assume exactly 1e5 gammas per neutron and a 1mCi sourcea\n",
    "width = np.diff(nx_f_sb) #width in eV\n",
    "norm_sb = 1/np.float(flux_sb['totalevents'])/width #per neutron primary\n",
    "norm_y = 1/np.float(flux_y['totalevents'])/width #per neutron primary\n",
    "\n",
    "srcrate = 3.7e7/1.0e5 #n per second\n",
    "#srcrate = srcrate*(24*60*60) #n per day\n",
    "norm_sb = norm_sb*srcrate\n",
    "norm_y = norm_y*srcrate\n",
    "\n",
    "\n",
    "#now include the surface area of the detector\n",
    "sA = 2*np.pi*(3.0*2.54/2.0)**2 + np.pi*(3.0*2.54)*2.54 #twice for faces and then edges, assume cylinder\n",
    "V = np.pi*2.54*(3.0*2.54/2.0)**2 #volume\n",
    "norm_sb=norm_sb/sA\n",
    "norm_y=norm_y/sA"
   ]
  },
  {
   "cell_type": "code",
   "execution_count": 18,
   "metadata": {},
   "outputs": [
    {
     "name": "stdout",
     "output_type": "stream",
     "text": [
      "The Y/Be Thermal flux is about 5.87E-06 +/- 2.67E-07 n/cm^2s \n",
      "The Sb/Be Thermal flux is about 4.27E-06 +/- 2.28E-07 n/cm^2s \n",
      "The Y/Be capture rate is about 5.61 +/- 0.26 captures per day \n",
      "The Y/Be capture rate is about 4.08 +/- 0.22 captures per day \n"
     ]
    }
   ],
   "source": [
    "#get thermal flux\n",
    "etherm=0.025\n",
    "fluxt_y = np.sum(n_f_y[xc_f_y<=etherm]*norm_y[xc_f_y<=etherm]*width[xc_f_y<=etherm])\n",
    "fluxt_err_y = np.sqrt(np.sum(n_f_y[xc_f_y<=etherm]))*norm_y[0]*width[0]\n",
    "print('The Y/Be Thermal flux is about {0:1.2E} +/- {1:1.2E} n/cm^2s '.format(fluxt_y,fluxt_err_y))\n",
    "fluxt_sb = np.sum(n_f_sb[xc_f_sb<=etherm]*norm_sb[xc_f_sb<=etherm]*width[xc_f_sb<=etherm])\n",
    "fluxt_err_sb = np.sqrt(np.sum(n_f_sb[xc_f_sb<=etherm]))*norm_sb[0]*width[0]\n",
    "print('The Sb/Be Thermal flux is about {0:1.2E} +/- {1:1.2E} n/cm^2s '.format(fluxt_sb,fluxt_err_sb))\n",
    "\n",
    "#get capture rates\n",
    "Sig_ge = 0.09555 #cm^-1, macroscopic cross section for all isotopes see N-MISC-17-001 pg 14, N-MISC-17-003 pg 25\n",
    "R_y = fluxt_y*Sig_ge*V*(24*60*60) # per day\n",
    "R_err_y = fluxt_err_y*Sig_ge*V*(24*60*60)\n",
    "R_sb = fluxt_sb*Sig_ge*V*(24*60*60) #per day\n",
    "R_err_sb = fluxt_err_sb*Sig_ge*V*(24*60*60)\n",
    "print('The Y/Be capture rate is about {0:1.2f} +/- {1:1.2f} captures per day '.format(R_y,R_err_y))\n",
    "print('The Y/Be capture rate is about {0:1.2f} +/- {1:1.2f} captures per day '.format(R_sb,R_err_sb))"
   ]
  },
  {
   "cell_type": "code",
   "execution_count": null,
   "metadata": {},
   "outputs": [],
   "source": []
  }
 ],
 "metadata": {
  "kernelspec": {
   "display_name": "Python [conda env:py36]",
   "language": "python",
   "name": "conda-env-py36-py"
  },
  "language_info": {
   "codemirror_mode": {
    "name": "ipython",
    "version": 3
   },
   "file_extension": ".py",
   "mimetype": "text/x-python",
   "name": "python",
   "nbconvert_exporter": "python",
   "pygments_lexer": "ipython3",
   "version": "3.6.1"
  }
 },
 "nbformat": 4,
 "nbformat_minor": 2
}
