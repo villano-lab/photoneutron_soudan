{
 "cells": [
  {
   "cell_type": "markdown",
   "metadata": {},
   "source": [
    "# Position Sensitivity in the NR Spectra of Photoneutron Analysis\n",
    "\n",
    "I have condensed the data from `0x0004` version of the simulation to see if it matters what x-y position the detector is at. For example z14 and z5 only differ by x-y position, the vertical (z) distance between them and the source is the same. "
   ]
  },
  {
   "cell_type": "code",
   "execution_count": 1,
   "metadata": {},
   "outputs": [],
   "source": [
    "import numpy as np\n",
    "import pandas as pd"
   ]
  },
  {
   "cell_type": "code",
   "execution_count": 2,
   "metadata": {},
   "outputs": [
    {
     "name": "stdout",
     "output_type": "stream",
     "text": [
      "['ERYield', 'ERedep', 'ERhit', 'ERt', 'ERx', 'ERy', 'ERz', 'NRYield', 'NRedep', 'NRhit', 'NRt', 'NRx', 'NRy', 'NRz', 'cERcapProg', 'cNRcapProg', 'cap_KE', 'cap_Time', 'cap_X', 'cap_Xmom', 'cap_Y', 'cap_Ymom', 'cap_Z', 'cap_Zmom', 'ncap', 'nprim', 'prim_KE', 'prim_PType', 'prim_X', 'prim_Xmom', 'prim_Y', 'prim_Ymom', 'prim_Z', 'prim_Zmom', 'totalevents']\n"
     ]
    }
   ],
   "source": [
    "#play around with some hits data stored in h5 file\n",
    "#===============to suppress h5py warning see:\n",
    "#https://github.com/h5py/h5py/issues/961\n",
    "import warnings\n",
    "warnings.simplefilter(action='ignore', category=FutureWarning)\n",
    "import h5py\n",
    "warnings.resetwarnings()\n",
    "fz14_sbbe = h5py.File(\"/data/chocula/villaa/PhotoN_SuperSim/ZipSum/sbbe_z14_190412_0x0004_1-3B.h5\",\"r\")\n",
    "fz5_sbbe = h5py.File(\"/data/chocula/villaa/PhotoN_SuperSim/ZipSum/sbbe_z5_190412_0x0004_1-3B.h5\",\"r\")\n",
    "\n",
    "#for i in fz14_ybe['simdata/']:\n",
    "#    print(i)\n",
    "\n",
    "#for i in fz5_ybe['simdata/']:\n",
    "#    print(i)\n",
    "\n",
    "print(list(fz5_sbbe['simdata/'].keys()))"
   ]
  },
  {
   "cell_type": "code",
   "execution_count": 3,
   "metadata": {},
   "outputs": [],
   "source": [
    "sbbe_z14 = {}\n",
    "sbbe_z14['NRhit'] = np.asarray(fz14_sbbe['simdata/NRhit'],dtype=np.float64())\n",
    "sbbe_z14['ERhit'] = np.asarray(fz14_sbbe['simdata/ERhit'],dtype=np.float64())\n",
    "sbbe_z14['NRedep'] = np.asarray(fz14_sbbe['simdata/NRedep'],dtype=np.float64())\n",
    "\n",
    "sbbe_z5 = {}\n",
    "sbbe_z5['NRhit'] = np.asarray(fz5_sbbe['simdata/NRhit'],dtype=np.float64())\n",
    "sbbe_z5['ERhit'] = np.asarray(fz5_sbbe['simdata/ERhit'],dtype=np.float64())\n",
    "sbbe_z5['NRedep'] = np.asarray(fz5_sbbe['simdata/NRedep'],dtype=np.float64())"
   ]
  },
  {
   "cell_type": "code",
   "execution_count": 4,
   "metadata": {},
   "outputs": [],
   "source": [
    "#cuts\n",
    "sbbe_z14['cNR'] = (sbbe_z14['ERhit']==0) & (sbbe_z14['NRhit']>0)\n",
    "sbbe_z5['cNR'] = (sbbe_z5['ERhit']==0) & (sbbe_z5['NRhit']>0)"
   ]
  },
  {
   "cell_type": "code",
   "execution_count": null,
   "metadata": {},
   "outputs": [],
   "source": [
    "#do some yield calculations\n",
    "import lindhard as lind\n",
    "#import numpy as np\n",
    "\n",
    "y = lind.getLindhardGe(False)\n",
    "\n",
    "yv = np.vectorize(y)\n",
    "\n",
    "#voltage and average energy per pair\n",
    "V=70 #should be derived from input structure\n",
    "egam = 3.3 #eV per pair\n",
    "\n",
    "sbbe_z14['NRedep_ee'] = sbbe_z14['NRedep']*yv(sbbe_z14['NRedep'])\n",
    "sbbe_z14['NRedep_t'] = sbbe_z14['NRedep'] + (V/egam)*sbbe_z14['NRedep_ee']\n",
    "sbbe_z14['edepNR_t'] = np.sum(sbbe_z14['NRedep_t'],1)\n",
    "sbbe_z14['edepNR_ee'] = sbbe_z14['edepNR_t']/(1+(V/egam)) #electron-equivalent scale for application of res\n",
    "\n",
    "\n",
    "sbbe_z5['NRedep_ee'] = sbbe_z5['NRedep']*yv(sbbe_z5['NRedep'])\n",
    "sbbe_z5['NRedep_t'] = sbbe_z5['NRedep'] + (V/egam)*sbbe_z5['NRedep_ee']\n",
    "sbbe_z5['edepNR_t'] = np.sum(sbbe_z5['NRedep_t'],1)\n",
    "sbbe_z5['edepNR_ee'] = sbbe_z5['edepNR_t']/(1+(V/egam)) #electron-equivalent scale for application of res"
   ]
  },
  {
   "cell_type": "code",
   "execution_count": null,
   "metadata": {},
   "outputs": [],
   "source": [
    "#add in the resolution from a model\n",
    "import pnRes as pnr\n",
    "\n",
    "r = pnr.getRes('z14') #select the default mode for the resolution model by not specifying second param\n",
    "rv =  np.vectorize(r)\n",
    "\n",
    "#apply the res\n",
    "sbbe_z14['edepNR_ee_res'] = sbbe_z14['edepNR_ee'] + np.random.normal(0,rv(sbbe_z14['edepNR_ee']))\n",
    "sbbe_z14['edepNR_t_res'] = (1+(V/egam))*sbbe_z14['edepNR_ee_res']  #convert back to eVt if desired\n",
    "print(np.shape(sbbe_z14['edepNR_t_res']))\n",
    "\n",
    "sbbe_z5['edepNR_ee_res'] = sbbe_z5['edepNR_ee'] + np.random.normal(0,rv(sbbe_z5['edepNR_ee']))\n",
    "sbbe_z5['edepNR_t_res'] = (1+(V/egam))*sbbe_z5['edepNR_ee_res']  #convert back to eVt if desired\n",
    "print(np.shape(sbbe_z5['edepNR_t_res']))"
   ]
  },
  {
   "cell_type": "code",
   "execution_count": null,
   "metadata": {},
   "outputs": [],
   "source": [
    "#make the histogram\n",
    "\n",
    "emax = 20000 #keVt scale\n",
    "#make the new capture histogram\n",
    "sbbe_z14['n_res'],sbbe_z14['nx_res'] = np.histogram(sbbe_z14['edepNR_t_res'][(sbbe_z14['cNR'])]/1000.0,100,range=(0,emax/1000.0)) #do it in keV\n",
    "\n",
    "sbbe_z14['xc_res'] = (sbbe_z14['nx_res'][:-1] + sbbe_z14['nx_res'][1:]) / 2\n",
    "\n",
    "sbbe_z5['n_res'],sbbe_z5['nx_res'] = np.histogram(sbbe_z5['edepNR_t_res'][(sbbe_z5['cNR'])]/1000.0,100,range=(0,emax/1000.0)) #do it in keV\n",
    "\n",
    "sbbe_z5['xc_res'] = (sbbe_z5['nx_res'][:-1] + sbbe_z5['nx_res'][1:]) / 2"
   ]
  },
  {
   "cell_type": "code",
   "execution_count": null,
   "metadata": {},
   "outputs": [],
   "source": [
    "#set up a plot \n",
    "import matplotlib as mpl\n",
    "from matplotlib import pyplot as plt\n",
    "#got smarter about the mpl config: see mplstyles/ directory\n",
    "plt.style.use('standard')"
   ]
  },
  {
   "cell_type": "code",
   "execution_count": null,
   "metadata": {},
   "outputs": [],
   "source": [
    "#set up a 1d plot\n",
    "fig,axes = plt.subplots(1,1,figsize=(9.0,8.0),sharex=True)\n",
    "ax1 = axes\n",
    "\n",
    "#lay out the colors\n",
    "rgb_r = (255/255.0,0/255.0,0/255.0)\n",
    "rgb_b = (0/255.0,0/255.0,255/255.0)\n",
    "rgb_o = (255/255.0,127/255.0,0/255.0)\n",
    "rgb_b = (31/255.0,120/255.0,180/255.0)\n",
    "rgb_lr = (251/255.0,154/255.0,153/255.0)\n",
    "rgb_g = (203/255.0,195/255.0,195/255.0)\n",
    "\n",
    "#try a normalization; assume exactly 1e5 gammas per neutron and a 1mCi sourcea\n",
    "norm = 1/np.float(np.asarray(fz14_sbbe['simdata/totalevents'])) #per neutron\n",
    "#print(norm)\n",
    "width = sbbe_z14['xc_res'][1]-sbbe_z14['xc_res'][0] #width in keV\n",
    "#print(width)\n",
    "norm = norm/width #per neutron per keV\n",
    "#print(norm)\n",
    "srcrate = 3.7e7/1.0e5 #n per second\n",
    "srcrate = srcrate*(24*60*60) #n per day\n",
    "norm = norm*srcrate\n",
    "#print(norm)\n",
    "\n",
    "#ax1.errorbar(xc, n, yerr=nerr,marker='o', markersize=8, linestyle='none',color='k', label='data')\n",
    "nrlabel='all NRs ({})'.format('z14')\n",
    "ax1.step(sbbe_z14['xc_res'],sbbe_z14['n_res']*norm, where='mid',color=rgb_r, linestyle='-', label=nrlabel, linewidth=2)\n",
    "nrlabel='all NRs ({})'.format('z5')\n",
    "ax1.step(sbbe_z5['xc_res'],sbbe_z5['n_res']*norm, where='mid',color=rgb_b, linestyle='-', label=nrlabel, linewidth=2)\n",
    "\n",
    "ymin = 1e1*norm\n",
    "ymax = 2.5e4*norm\n",
    "\n",
    "#thresh_t = data[zip][set]['CDMSlite']['thresh_t']\n",
    "#sigthr_t = data[zip][set]['CDMSlite']['sigthr_t']\n",
    "#thresh_t/=1000.0\n",
    "#sigthr_t/=1000.0\n",
    "#a = [thresh_t,thresh_t] #this was the threshold for IT5Z2 :\n",
    "#http://titus.stanford.edu/cdms_restricted/Soudan/R133/ebook/171012_AS/T5Z2liteTrigEff.html\n",
    "#b = [ymin,ymax]\n",
    "\n",
    "#ax1.plot(a,b,linestyle='--',color='k',label='_nolegend_')\n",
    "#ax1.plot(a,b,linestyle='--',color='k',label='Thresh. (IT5Z2) in keV$_{\\mathrm{nr}}$')\n",
    "\n",
    "#tlabel = 'Thresh. {0}, keV$_{{\\mathrm{{t}}}}$'.format(data[zip]['detname'])\n",
    "#ax1.axvline(thresh_t, color='k', linestyle='--', lw=2, alpha=0.8,label=tlabel)\n",
    "#erange_x = np.arange(thresh_t-sigthr_t, thresh_t+sigthr_t, 0.01)\n",
    "#ax1.fill_between(erange_x, ymin, ymax, facecolor=rgb_o, alpha=0.3)\n",
    "\n",
    "ax1.set_yscale('linear')\n",
    "ax1.set_xlim(0, emax/1000.0) #in keV\n",
    "ax1.set_ylim(ymin,ymax)\n",
    "ax1.set_xlabel('energy [keV$_t$]',**axis_font)\n",
    "ax1.set_ylabel('rate [(keV $\\\\cdot$ day)$^{-1}$]',**axis_font)\n",
    "ax1.grid(True)\n",
    "ax1.yaxis.grid(True,which='minor',linestyle='--')\n",
    "#ax1.legend([gh,gl,nh,nl], ['gamma (high gain)','gamma (low gain)','neutron (high gain)', 'neutron (low gain)'],loc=1)\n",
    "#ax1.legend(loc=1, bbox_to_anchor=(0.82, 1),\n",
    "#         fancybox=True, shadow=True, ncol=4)\n",
    "ax1.legend(loc=1,prop={'size':22})\n",
    "\n",
    "for axis in ['top','bottom','left','right']:\n",
    "  ax1.spines[axis].set_linewidth(2)\n",
    "\n",
    "plt.tight_layout()\n",
    "#plt.savefig('figures/IT5Z2_RealSimcaptures_100M.eps')\n",
    "plt.savefig('figures/sbbe_poscompare_z5-z14.png')\n",
    "plt.show()"
   ]
  },
  {
   "cell_type": "code",
   "execution_count": null,
   "metadata": {},
   "outputs": [],
   "source": []
  }
 ],
 "metadata": {
  "kernelspec": {
   "display_name": "Python [conda env:py365]",
   "language": "python",
   "name": "conda-env-py365-py"
  },
  "language_info": {
   "codemirror_mode": {
    "name": "ipython",
    "version": 3
   },
   "file_extension": ".py",
   "mimetype": "text/x-python",
   "name": "python",
   "nbconvert_exporter": "python",
   "pygments_lexer": "ipython3",
   "version": "3.6.5"
  }
 },
 "nbformat": 4,
 "nbformat_minor": 2
}
