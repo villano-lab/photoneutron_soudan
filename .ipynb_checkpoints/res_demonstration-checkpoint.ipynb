{
 "cells": [
  {
   "cell_type": "code",
   "execution_count": 1,
   "metadata": {},
   "outputs": [],
   "source": [
    "import pickle\n",
    "import numpy as np\n",
    "import lindhard as lind #custom library in lindhard.py, for ionization yield functions Ge/Si\n",
    "import pnRes as pnr #custom library in pnRes.py, for PN resolution computation "
   ]
  },
  {
   "cell_type": "code",
   "execution_count": 2,
   "metadata": {},
   "outputs": [
    {
     "name": "stdout",
     "output_type": "stream",
     "text": [
      "dict_keys(['prim_KE', 'prim_Z', 'prim_Y', 'prim_X', 'NRYield', 'cap_Zmom', 'totalevents', 'cap_Xmom', 'ERYield', 'ERt', 'cap_X', 'cap_Y', 'nprim', 'ERx', 'ERy', 'ERz', 'ERedep', 'NRedep', 'cap_Time', 'prim_PType', 'prim_Xmom', 'prim_Ymom', 'NRhit', 'ERhit', 'NRz', 'NRy', 'NRx', 'cap_Ymom', 'NRt', 'cERcapProg', 'prim_Zmom', 'cap_KE', 'ncap', 'cap_Z', 'cNRcapProg'])\n"
     ]
    }
   ],
   "source": [
    "with open('/data/chocula/villaa/PhotoN_SuperSim/ZipSum/ybe_z14_180223_0x0004_100M.pkl','rb') as readFile:\n",
    "      data=pickle.load(readFile,encoding='latin1')\n",
    "\n",
    "print(data.keys())"
   ]
  },
  {
   "cell_type": "code",
   "execution_count": 3,
   "metadata": {},
   "outputs": [],
   "source": [
    "#do some yield calculations\n",
    "\n",
    "y = lind.getLindhardGe(False) #get standard Lindhard yiedl\n",
    "yv = np.vectorize(y) #vectorize it\n",
    "\n",
    "#voltage and average energy per pair\n",
    "V=70.0 #detector Voltage\n",
    "egam = 3.3 #eV per pair\n",
    "\n",
    "NRedep_ee = data['NRedep']*yv(data['NRedep']) #get the energy of nuclear recoil data in electron-equivalent\n",
    "NRedep_t = data['NRedep'] + (V/egam)*NRedep_ee #convert to total energy\n",
    "edepNR_t = np.sum(NRedep_t,1) #sum the individual hits\n",
    "\n",
    "#convert back to experimental electron-equivalent scale for application\n",
    "#of resolution, this is electron-equivalent energy with the ER assumption\n",
    "edepNR_ee = edepNR_t/(1+(V/egam)) "
   ]
  },
  {
   "cell_type": "code",
   "execution_count": 4,
   "metadata": {},
   "outputs": [
    {
     "name": "stdout",
     "output_type": "stream",
     "text": [
      "(39185,)\n",
      "(39185, 13)\n"
     ]
    }
   ],
   "source": [
    "#add in the resolution from a model\n",
    "\n",
    "r = pnr.getRes('z14') #select the default mode (CDMSlite-70V) for the resolution model by not specifying second param\n",
    "rv =  np.vectorize(r)\n",
    "\n",
    "#apply the res\n",
    "edepNR_ee_res = edepNR_ee + np.random.normal(0,rv(edepNR_ee))\n",
    "edepNR_t_res = (1+(V/egam))*edepNR_ee_res  #convert back to eVt if desired"
   ]
  }
 ],
 "metadata": {
  "kernelspec": {
   "display_name": "Python [conda env:py36]",
   "language": "python",
   "name": "conda-env-py36-py"
  },
  "language_info": {
   "codemirror_mode": {
    "name": "ipython",
    "version": 3
   },
   "file_extension": ".py",
   "mimetype": "text/x-python",
   "name": "python",
   "nbconvert_exporter": "python",
   "pygments_lexer": "ipython3",
   "version": "3.6.1"
  }
 },
 "nbformat": 4,
 "nbformat_minor": 2
}
