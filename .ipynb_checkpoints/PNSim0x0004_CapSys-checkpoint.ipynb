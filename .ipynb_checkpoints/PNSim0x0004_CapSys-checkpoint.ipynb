{
 "cells": [
  {
   "cell_type": "code",
   "execution_count": 1,
   "metadata": {},
   "outputs": [],
   "source": [
    "import pickle\n",
    "from pylab import *\n",
    "import matplotlib.image as mpimg\n",
    "from matplotlib.colors import LogNorm\n",
    "from mpl_toolkits.axes_grid1 import make_axes_locatable\n",
    "import matplotlib as mpl\n",
    "from matplotlib import pyplot as plt\n",
    "import numpy as np"
   ]
  },
  {
   "cell_type": "code",
   "execution_count": 2,
   "metadata": {},
   "outputs": [
    {
     "name": "stdout",
     "output_type": "stream",
     "text": [
      "dict_keys(['NRedep', 'cEscape', 'ncap', 'NRhit', 'ERhit'])\n"
     ]
    }
   ],
   "source": [
    "with open('/data/chocula/villaa/PhotoN_SuperSim/ZipSum/PN0x0004_capReplace_condensed.pkl','rb') as readFile:\n",
    "      data=pickle.load(readFile,encoding='latin1')\n",
    "\n",
    "print(data['z14']['ybe'].keys())"
   ]
  },
  {
   "cell_type": "markdown",
   "metadata": {},
   "source": [
    "\n",
    "First check that the condensing code in orgSimData.py worked correctly by re-plotting the second figure from the notebook: PNSim0x0004_CapSpecCompare.ipynb\n"
   ]
  },
  {
   "cell_type": "code",
   "execution_count": 3,
   "metadata": {},
   "outputs": [
    {
     "name": "stdout",
     "output_type": "stream",
     "text": [
      "{'fontname': 'Arial', 'size': '32'}\n",
      "{'fontname': 'Arial', 'size': '16', 'color': 'black', 'weight': 'normal', 'verticalalignment': 'bottom'}\n",
      "{'fontname': 'Arial', 'size': '22'}\n",
      "medium\n",
      "22.0\n"
     ]
    }
   ],
   "source": [
    "#got smarter about the mpl config: see mplstyles/ directory\n",
    "print(axis_font)\n",
    "print(title_font)\n",
    "print(legend_font)\n",
    "print(mpl.rcParams['ytick.labelsize']) #should be 22 in my style\n",
    "plt.style.use('standard')\n",
    "print(mpl.rcParams['ytick.labelsize']) #should be 22 in my style"
   ]
  },
  {
   "cell_type": "code",
   "execution_count": null,
   "metadata": {},
   "outputs": [],
   "source": []
  }
 ],
 "metadata": {
  "kernelspec": {
   "display_name": "Python [conda env:py36]",
   "language": "python",
   "name": "conda-env-py36-py"
  },
  "language_info": {
   "codemirror_mode": {
    "name": "ipython",
    "version": 3
   },
   "file_extension": ".py",
   "mimetype": "text/x-python",
   "name": "python",
   "nbconvert_exporter": "python",
   "pygments_lexer": "ipython3",
   "version": "3.6.1"
  }
 },
 "nbformat": 4,
 "nbformat_minor": 2
}
