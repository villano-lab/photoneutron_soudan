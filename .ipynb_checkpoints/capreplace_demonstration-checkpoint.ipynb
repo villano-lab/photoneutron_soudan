{
 "cells": [
  {
   "cell_type": "code",
   "execution_count": 1,
   "metadata": {},
   "outputs": [],
   "source": [
    "import pickle\n",
    "import numpy as np"
   ]
  },
  {
   "cell_type": "code",
   "execution_count": 2,
   "metadata": {},
   "outputs": [
    {
     "name": "stdout",
     "output_type": "stream",
     "text": [
      "dict_keys(['prim_KE', 'prim_Z', 'prim_Y', 'prim_X', 'NRYield', 'cap_Zmom', 'totalevents', 'cap_Xmom', 'ERYield', 'ERt', 'cap_X', 'cap_Y', 'nprim', 'ERx', 'ERy', 'ERz', 'ERedep', 'NRedep', 'cap_Time', 'prim_PType', 'prim_Xmom', 'prim_Ymom', 'NRhit', 'ERhit', 'NRz', 'NRy', 'NRx', 'cap_Ymom', 'NRt', 'cERcapProg', 'prim_Zmom', 'cap_KE', 'ncap', 'cap_Z', 'cNRcapProg'])\n",
      "dict_keys(['NRy', 'ERt', 'ERYield', 'NRYield', 'ERy', 'NRhit', 'cERcapProg', 'ERx', 'ERhit', 'totalevents', 'ERedep', 'NRz', 'NRedep', 'NRx', 'ERz', 'cNRcapProg', 'cEscape', 'ncap', 'NRt', 'nprim'])\n"
     ]
    }
   ],
   "source": [
    "with open('/data/chocula/villaa/PhotoN_SuperSim/ZipSum/ybe_z14_180223_0x0004_100M.pkl','rb') as readFile:\n",
    "      data=pickle.load(readFile,encoding='latin1')\n",
    "\n",
    "print(data.keys())\n",
    "\n",
    "\n",
    "with open('/data/chocula/villaa/PhotoN_SuperSim/ZipSum/ybe_z14_180307_cap_slow.pkl','rb') as readFile:\n",
    "      capdata=pickle.load(readFile,encoding='latin1')\n",
    "\n",
    "print(capdata.keys())"
   ]
  },
  {
   "cell_type": "code",
   "execution_count": 3,
   "metadata": {},
   "outputs": [],
   "source": [
    "#sum the NR hits from the Geant4 simulation\n",
    "edepNR = np.sum(data['NRedep'],1)\n",
    "\n",
    "#get the full structure with all hits as well\n",
    "NRedep = data['NRedep']\n"
   ]
  },
  {
   "cell_type": "code",
   "execution_count": 4,
   "metadata": {},
   "outputs": [
    {
     "name": "stdout",
     "output_type": "stream",
     "text": [
      "Capture structure shapes and first capture BEFORE replacement================\n",
      "1170.0\n",
      "(39185,)\n",
      "(39185, 13)\n",
      "[ 2107.85031959   587.64316782     0.             0.             0.             0.\n",
      "     0.             0.             0.             0.             0.             0.\n",
      "     0.        ]\n",
      "\n",
      "Capture structure shapes and first capture AFTER replacement================\n",
      "1170.0\n",
      "(39185,)\n",
      "(39185, 13)\n",
      "[ 362.08567695    1.89173967    0.            0.            0.            0.\n",
      "    0.            0.            0.            0.            0.            0.\n",
      "    0.        ]\n"
     ]
    }
   ],
   "source": [
    "#take the number of total captures (with or without ER)\n",
    "oneper = np.ones(np.shape(data['ncap']))\n",
    "Ncap = np.sum(oneper[data['ncap']>0])\n",
    "\n",
    "print('Capture structure shapes and first capture BEFORE replacement================')\n",
    "print(Ncap)\n",
    "print(np.shape(edepNR))\n",
    "print(np.shape(NRedep))\n",
    "\n",
    "\n",
    "#go ahead and pick out this many events from the capture file\n",
    "#but need to reshuffle them because the capture data has each cascade simulated in order\n",
    "idx_orig = np.arange(np.shape(data['NRedep'])[0])\n",
    "idx = np.arange(np.shape(capdata['NRedep'])[0]) \n",
    "\n",
    "#careful with this, use a consistent seed to get consistent dataset\n",
    "#here it gives the same number of indicies independent of the seed, however later \n",
    "#when we cut out the ones that didn't have all gammas escape, the dataset will\n",
    "#be different sized unless you use a consistent random state\n",
    "rstate = np.random.RandomState()\n",
    "rstate.seed(1)\n",
    "idx_rand = rstate.choice(idx,np.int(Ncap),replace=False)\n",
    "\n",
    "#get indicies of capture in original vector \n",
    "idx_cap = idx_orig[data['ncap']>0]\n",
    "print(NRedep[idx_cap[0]])\n",
    "\n",
    "\n",
    "#get summed data structure and radomize\n",
    "edepNR_cap = np.sum(capdata['NRedep'],1)\n",
    "\n",
    "#replace cap events in original structure\n",
    "edepNR[idx_cap] = edepNR_cap[idx_rand]\n",
    "NRedep[idx_cap] = capdata['NRedep'][idx_rand]\n",
    "\n",
    "print('')\n",
    "print('Capture structure shapes and first capture AFTER replacement================')\n",
    "print(Ncap)\n",
    "print(np.shape(edepNR))\n",
    "print(np.shape(NRedep))\n",
    "print(NRedep[idx_cap[0]])\n"
   ]
  },
  {
   "cell_type": "code",
   "execution_count": 5,
   "metadata": {},
   "outputs": [
    {
     "name": "stdout",
     "output_type": "stream",
     "text": [
      "(39185,)\n",
      "Retained 801 escaping captures, should be same number for multiple runs of this notebook\n"
     ]
    }
   ],
   "source": [
    "#now have to expand the cut cEscape to cover the whole dataset\n",
    "cEscape = np.ones(np.shape(edepNR),dtype=bool) #default is all escaped\n",
    "cEscape[idx_cap] = capdata['cEscape'][idx_rand]\n",
    "\n",
    "print(np.shape(cEscape))\n",
    "oneper = np.ones(np.shape(cEscape))\n",
    "NnotEscape = np.sum(oneper[~cEscape])\n",
    "print('Retained {0:d} escaping captures, should be same number for multiple runs of this notebook' \\\n",
    "      .format(np.int(Ncap-NnotEscape)))"
   ]
  },
  {
   "cell_type": "code",
   "execution_count": 7,
   "metadata": {},
   "outputs": [],
   "source": [
    "#can save these variables to a pkl files if desired\n",
    "output={}\n",
    "output['NRedep'] = NRedep\n",
    "output['cEscape'] = cEscape\n",
    "output['ncap'] = data['ncap']\n",
    "output['NRhit'] = data['NRhit']\n",
    "output['ERhit'] = data['ERhit']\n",
    "\n",
    "#outfile = open('data/PNSim0x0004_condensed.pkl', 'wb')\n",
    "#pickle.dump(output, outfile)\n",
    "#outfile.close()"
   ]
  },
  {
   "cell_type": "code",
   "execution_count": null,
   "metadata": {},
   "outputs": [],
   "source": []
  }
 ],
 "metadata": {
  "kernelspec": {
   "display_name": "Python [conda env:py36]",
   "language": "python",
   "name": "conda-env-py36-py"
  },
  "language_info": {
   "codemirror_mode": {
    "name": "ipython",
    "version": 3
   },
   "file_extension": ".py",
   "mimetype": "text/x-python",
   "name": "python",
   "nbconvert_exporter": "python",
   "pygments_lexer": "ipython3",
   "version": "3.6.1"
  }
 },
 "nbformat": 4,
 "nbformat_minor": 2
}
