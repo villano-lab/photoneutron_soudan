{
 "cells": [
  {
   "cell_type": "code",
   "execution_count": null,
   "metadata": {},
   "outputs": [],
   "source": [
    "import pickle\n",
    "from pylab import *\n",
    "import matplotlib.image as mpimg\n",
    "from matplotlib.colors import LogNorm\n",
    "from mpl_toolkits.axes_grid1 import make_axes_locatable\n",
    "import matplotlib as mpl\n",
    "from matplotlib import pyplot as plt\n",
    "import numpy as np\n",
    "import h5py\n",
    "from mpl_toolkits.mplot3d import Axes3D\n",
    "from scipy.stats import gaussian_kde"
   ]
  },
  {
   "cell_type": "code",
   "execution_count": null,
   "metadata": {},
   "outputs": [
    {
     "name": "stdout",
     "output_type": "stream",
     "text": [
      "reading file for detector z14\n",
      "/data/chocula/villaa/PhotoN_SuperSim/ZipSum/ybe_z14_180223_0x0004_1-3B.pkl\n",
      "dict_keys(['prim_KE', 'prim_Z', 'prim_Y', 'prim_X', 'NRYield', 'cap_Zmom', 'totalevents', 'cap_Xmom', 'ERYield', 'ERt', 'cap_X', 'cap_Y', 'nprim', 'ERx', 'ERy', 'ERz', 'ERedep', 'NRedep', 'cap_Time', 'prim_PType', 'prim_Xmom', 'prim_Ymom', 'NRhit', 'ERhit', 'NRz', 'NRy', 'NRx', 'cap_Ymom', 'NRt', 'cERcapProg', 'prim_Zmom', 'cap_KE', 'ncap', 'cap_Z', 'cNRcapProg'])\n",
      "reading file for detector z4\n",
      "/data/chocula/villaa/PhotoN_SuperSim/ZipSum/ybe_z4_180223_0x0004_1-3B.pkl\n"
     ]
    }
   ],
   "source": [
    "#go through a bunch of data and load it\n",
    "prefixdir = '/data/chocula/villaa/PhotoN_SuperSim/ZipSum'\n",
    "data = {}\n",
    "data['z14'] = {}\n",
    "data['z14']['ybe'] = {}\n",
    "data['z14']['ybe']['bigfile'] = 'ybe_z14_180223_0x0004_1-3B.pkl'\n",
    "data['z14']['sbbe'] = {}\n",
    "data['z14']['sbbe']['bigfile'] = 'sbbe_z14_180302_0x0004_1-3B.pkl'\n",
    "data['z4'] = {}\n",
    "data['z4']['ybe'] = {}\n",
    "data['z4']['ybe']['bigfile'] = 'ybe_z4_180223_0x0004_1-3B.pkl'\n",
    "data['z4']['sbbe'] = {}\n",
    "data['z4']['sbbe']['bigfile'] = 'sbbe_z4_180302_0x0004_1-3B.pkl'\n",
    "#data['z5'] = {}\n",
    "#data['z5']['ybe'] = {}\n",
    "#data['z5']['ybe']['bigfile'] = 'ybe_z14_180223_0x0004_1-3B.pkl'\n",
    "#data['z5']['sbbe'] = {}\n",
    "#data['z5']['sbbe']['bigfile'] = 'sbbe_z14_180302_0x0004_1-3B.pkl'\n",
    "\n",
    "\n",
    "for det in data:\n",
    "    print('reading file for detector {}'.format(det))\n",
    "\n",
    "    file = prefixdir + '/' + data[det]['ybe']['bigfile']\n",
    "    print(file)\n",
    "    with open(file,'rb') as readFile:\n",
    "          data[det]['ybe']['bigdata']=pickle.load(readFile,encoding='latin1')\n",
    "\n",
    "    print(data[det]['ybe']['bigdata'].keys())"
   ]
  },
  {
   "cell_type": "code",
   "execution_count": null,
   "metadata": {},
   "outputs": [],
   "source": []
  }
 ],
 "metadata": {
  "kernelspec": {
   "display_name": "Python [conda env:py36]",
   "language": "python",
   "name": "conda-env-py36-py"
  },
  "language_info": {
   "codemirror_mode": {
    "name": "ipython",
    "version": 3
   },
   "file_extension": ".py",
   "mimetype": "text/x-python",
   "name": "python",
   "nbconvert_exporter": "python",
   "pygments_lexer": "ipython3",
   "version": "3.6.1"
  }
 },
 "nbformat": 4,
 "nbformat_minor": 2
}
